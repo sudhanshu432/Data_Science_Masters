{
 "cells": [
  {
   "cell_type": "markdown",
   "id": "c0d86027",
   "metadata": {},
   "source": [
    "# Assignment"
   ]
  },
  {
   "cell_type": "markdown",
   "id": "79b7d80f",
   "metadata": {},
   "source": [
    "### Q1. Create a Pandas Series that contains the following data: 4, 8, 15, 16, 23, and 42. Then, print the series."
   ]
  },
  {
   "cell_type": "code",
   "execution_count": 21,
   "id": "00f494ed",
   "metadata": {},
   "outputs": [
    {
     "name": "stdout",
     "output_type": "stream",
     "text": [
      "0     4\n",
      "1     6\n",
      "2    15\n",
      "3    16\n",
      "4    23\n",
      "5    43\n",
      "dtype: int64\n"
     ]
    }
   ],
   "source": [
    "import pandas as pd\n",
    "\n",
    "data = [4,6,15,16,23,43]\n",
    "series = pd.Series(data)\n",
    "print(series)"
   ]
  },
  {
   "cell_type": "code",
   "execution_count": null,
   "id": "bb8e41a3",
   "metadata": {},
   "outputs": [],
   "source": []
  },
  {
   "cell_type": "markdown",
   "id": "7eec1f0e",
   "metadata": {},
   "source": [
    "### Q2. Create a variable of list type containing 10 elements in it, and apply pandas.Series function on the variable print it."
   ]
  },
  {
   "cell_type": "code",
   "execution_count": 28,
   "id": "33062369",
   "metadata": {},
   "outputs": [
    {
     "name": "stdout",
     "output_type": "stream",
     "text": [
      "0    A\n",
      "1    B\n",
      "2    C\n",
      "3    D\n",
      "4    E\n",
      "5    F\n",
      "6    G\n",
      "7    H\n",
      "8    I\n",
      "9    J\n",
      "dtype: object\n"
     ]
    }
   ],
   "source": [
    "import pandas as pd\n",
    "\n",
    "data = ['A','B','C','D','E','F','G','H','I','J']\n",
    "series =pd.Series(data)\n",
    "print(series)"
   ]
  },
  {
   "cell_type": "markdown",
   "id": "b919a6ff",
   "metadata": {},
   "source": [
    "### Q3. Create a Pandas DataFrame that contains the following data:"
   ]
  },
  {
   "cell_type": "markdown",
   "id": "7f368892",
   "metadata": {},
   "source": [
    "Name           Age         Gender\n",
    "Alice          25          Female\n",
    "Bob            30           Male\n",
    "Claire         27          Female"
   ]
  },
  {
   "cell_type": "markdown",
   "id": "e892232d",
   "metadata": {},
   "source": [
    " Ans: Creating a Dataframe using list (Method-1)"
   ]
  },
  {
   "cell_type": "code",
   "execution_count": 14,
   "id": "723e0b4a",
   "metadata": {},
   "outputs": [
    {
     "data": {
      "text/html": [
       "<div>\n",
       "<style scoped>\n",
       "    .dataframe tbody tr th:only-of-type {\n",
       "        vertical-align: middle;\n",
       "    }\n",
       "\n",
       "    .dataframe tbody tr th {\n",
       "        vertical-align: top;\n",
       "    }\n",
       "\n",
       "    .dataframe thead th {\n",
       "        text-align: right;\n",
       "    }\n",
       "</style>\n",
       "<table border=\"1\" class=\"dataframe\">\n",
       "  <thead>\n",
       "    <tr style=\"text-align: right;\">\n",
       "      <th></th>\n",
       "      <th>Name</th>\n",
       "      <th>Age</th>\n",
       "      <th>Gender</th>\n",
       "    </tr>\n",
       "  </thead>\n",
       "  <tbody>\n",
       "    <tr>\n",
       "      <th>0</th>\n",
       "      <td>Alice</td>\n",
       "      <td>25</td>\n",
       "      <td>Female</td>\n",
       "    </tr>\n",
       "    <tr>\n",
       "      <th>1</th>\n",
       "      <td>Bob</td>\n",
       "      <td>30</td>\n",
       "      <td>Male</td>\n",
       "    </tr>\n",
       "    <tr>\n",
       "      <th>2</th>\n",
       "      <td>Claire</td>\n",
       "      <td>27</td>\n",
       "      <td>Female</td>\n",
       "    </tr>\n",
       "  </tbody>\n",
       "</table>\n",
       "</div>"
      ],
      "text/plain": [
       "     Name  Age  Gender\n",
       "0   Alice   25  Female\n",
       "1     Bob   30    Male\n",
       "2  Claire   27  Female"
      ]
     },
     "execution_count": 14,
     "metadata": {},
     "output_type": "execute_result"
    }
   ],
   "source": [
    "import pandas as pd\n",
    "\n",
    "data = [['Alice',25,'Female'],['Bob',30,'Male'],['Claire',27,'Female']]\n",
    "\n",
    "df = pd.DataFrame(data, columns = ['Name','Age', 'Gender'])\n",
    "df"
   ]
  },
  {
   "cell_type": "markdown",
   "id": "68b6297a",
   "metadata": {},
   "source": [
    "Ans: Creating a DataFrame using dictionary (Method-2)"
   ]
  },
  {
   "cell_type": "code",
   "execution_count": 38,
   "id": "47986c9a",
   "metadata": {},
   "outputs": [
    {
     "data": {
      "text/html": [
       "<div>\n",
       "<style scoped>\n",
       "    .dataframe tbody tr th:only-of-type {\n",
       "        vertical-align: middle;\n",
       "    }\n",
       "\n",
       "    .dataframe tbody tr th {\n",
       "        vertical-align: top;\n",
       "    }\n",
       "\n",
       "    .dataframe thead th {\n",
       "        text-align: right;\n",
       "    }\n",
       "</style>\n",
       "<table border=\"1\" class=\"dataframe\">\n",
       "  <thead>\n",
       "    <tr style=\"text-align: right;\">\n",
       "      <th></th>\n",
       "      <th>Name</th>\n",
       "      <th>Age</th>\n",
       "      <th>Gender</th>\n",
       "    </tr>\n",
       "  </thead>\n",
       "  <tbody>\n",
       "    <tr>\n",
       "      <th>0</th>\n",
       "      <td>Alice</td>\n",
       "      <td>25</td>\n",
       "      <td>Female</td>\n",
       "    </tr>\n",
       "    <tr>\n",
       "      <th>1</th>\n",
       "      <td>Bob</td>\n",
       "      <td>30</td>\n",
       "      <td>Male</td>\n",
       "    </tr>\n",
       "    <tr>\n",
       "      <th>2</th>\n",
       "      <td>Claire</td>\n",
       "      <td>27</td>\n",
       "      <td>Female</td>\n",
       "    </tr>\n",
       "  </tbody>\n",
       "</table>\n",
       "</div>"
      ],
      "text/plain": [
       "     Name  Age  Gender\n",
       "0   Alice   25  Female\n",
       "1     Bob   30    Male\n",
       "2  Claire   27  Female"
      ]
     },
     "execution_count": 38,
     "metadata": {},
     "output_type": "execute_result"
    }
   ],
   "source": [
    "import pandas as pd\n",
    "\n",
    "data = {'Name':['Alice','Bob','Claire'],\n",
    "        'Age':[25,30,27],\n",
    "       'Gender':['Female','Male','Female']}\n",
    "#Creating a data frame\n",
    "df = pd.DataFrame(data)\n",
    "df"
   ]
  },
  {
   "cell_type": "markdown",
   "id": "166881b8",
   "metadata": {},
   "source": [
    "### Q4. What is ‘DataFrame’ in pandas and how is it different from pandas.series? Explain with an example."
   ]
  },
  {
   "cell_type": "markdown",
   "id": "86286e2c",
   "metadata": {},
   "source": [
    "In Pandas, a DataFrame is a two-dimensional labeled data structure that can store data of different types (e.g., integers, strings, floats) in columns. It is similar to a table or spreadsheet where data is organized in rows and columns. A DataFrame provides a way to structure and manipulate data effectively.\n",
    "\n",
    "On the other hand, a Series is a one-dimensional labeled array that can store data of the same type. It can be thought of as a single column of data, with an index attached to each element. A Series is often used to represent a single column or a single row of a DataFrame.\n",
    "\n",
    "To understand the difference between a DataFrame and a Series, let's consider an example:"
   ]
  },
  {
   "cell_type": "code",
   "execution_count": 36,
   "id": "57440c15",
   "metadata": {},
   "outputs": [
    {
     "name": "stdout",
     "output_type": "stream",
     "text": [
      "        Name  Age      City\n",
      "0  Sudhanshu   23  Dehradun\n",
      "1      Sumit   30     Patna\n",
      "2      Atish   35     Delhi\n",
      "3      Arnav   40    Ranchi\n"
     ]
    }
   ],
   "source": [
    "#For example\n",
    "import pandas as pd\n",
    "\n",
    "data = {\n",
    "    'Name': ['Sudhanshu', 'Sumit', 'Atish', 'Arnav'],\n",
    "    'Age': [23, 30, 35, 40],\n",
    "    'City': ['Dehradun', 'Patna', 'Delhi', 'Ranchi']\n",
    "}\n",
    "\n",
    "# Creating a DataFrame\n",
    "df = pd.DataFrame(data)\n",
    "print(df)\n"
   ]
  },
  {
   "cell_type": "code",
   "execution_count": 30,
   "id": "d6f1a46e",
   "metadata": {},
   "outputs": [
    {
     "name": "stdout",
     "output_type": "stream",
     "text": [
      "Name    [Sudhanshu, Sumit, Atish, Arnav]\n",
      "Age                     [23, 30, 35, 40]\n",
      "City    [Dehradun, Patna, Delhi, Ranchi]\n",
      "dtype: object\n"
     ]
    }
   ],
   "source": [
    "#For Example\n",
    "\n",
    "#Creating a Pandas series\n",
    "series = pd.Series(data)\n",
    "print(series)"
   ]
  },
  {
   "cell_type": "markdown",
   "id": "f48e9002",
   "metadata": {},
   "source": [
    "### Q5. What are some common functions you can use to manipulate data in a Pandas DataFrame? Can you give an example of when you might use one of these functions? "
   ]
  },
  {
   "cell_type": "markdown",
   "id": "fe891dd4",
   "metadata": {},
   "source": [
    "Pandas provides a wide range of functions to manipulate and transform data in a DataFrame.\n",
    "Here are some common functions that you can use:\n",
    "\n",
    "head() and tail(): These functions allow you to view the first or last few rows of the DataFrame. They are useful for quickly inspecting the data or checking the structure of the DataFrame.\n",
    "\n",
    "info(): This function provides a concise summary of the DataFrame, including the column names, data types, and non-null values. It's helpful for understanding the overall structure of the DataFrame and identifying missing values.\n",
    "\n",
    "describe(): This function generates descriptive statistics of the numerical columns in the DataFrame, such as count, mean, standard deviation, minimum, maximum, and quartiles. It gives you insights into the distribution and summary statistics of the data.\n",
    "\n",
    "shape: This attribute returns a tuple representing the dimensions of the DataFrame (number of rows, number of columns). It's useful for quickly checking the size of the DataFrame.\n",
    "\n",
    "loc[] and iloc[]: These indexing operators allow you to access and manipulate specific rows and columns in the DataFrame based on their labels or integer positions, respectively.\n",
    "\n",
    "drop(): This function is used to remove rows or columns from the DataFrame. You can specify the labels of the rows or columns to be dropped, along with the axis parameter (0 for rows, 1 for columns).\n",
    "\n",
    "fillna(): This function is used to fill missing values in the DataFrame with a specified value or a strategy (e.g., mean, median). It helps in handling missing data before performing analysis or modeling.\n",
    "\n",
    "groupby(): This function is used for grouping data based on one or more columns. It allows you to perform aggregation operations, such as sum, mean, count, etc., on specific groups of data.\n",
    "\n",
    "sort_values(): This function is used to sort the DataFrame based on one or more columns. You can specify the column(s) to sort by and the ascending or descending order.\n",
    "\n"
   ]
  },
  {
   "cell_type": "markdown",
   "id": "11427109",
   "metadata": {},
   "source": [
    "For Example :\n"
   ]
  },
  {
   "cell_type": "code",
   "execution_count": 46,
   "id": "084d95a5",
   "metadata": {},
   "outputs": [
    {
     "name": "stdout",
     "output_type": "stream",
     "text": [
      "         East Unnamed: 1 Unnamed: 2   W   L\n",
      "0   MIL * (1)          F          $  58  24\n",
      "1   BOS * (2)          F          $  57  25\n",
      "2   PHI * (3)          F          $  54  28\n",
      "3   CLE * (4)          F          $  51  31\n",
      "4   NYK * (5)          F          $  47  35\n",
      "5   BRK * (6)          F          $  45  37\n",
      "6   MIA * (7)          F          $  44  38\n",
      "7   ATL * (8)          F          $  41  41\n",
      "8   TOR * (9)          F          $  41  41\n",
      "9  CHI * (10)          F          $  40  42\n"
     ]
    }
   ],
   "source": [
    "import pandas as pd\n",
    "\n",
    "url_data = pd.read_html('https://www.basketball-reference.com/')\n",
    "\n",
    "data = url_data[0]\n",
    "print(data.head(10))\n",
    "\n"
   ]
  },
  {
   "cell_type": "code",
   "execution_count": 47,
   "id": "74251444",
   "metadata": {},
   "outputs": [
    {
     "name": "stdout",
     "output_type": "stream",
     "text": [
      "East          object\n",
      "Unnamed: 1    object\n",
      "Unnamed: 2    object\n",
      "W              int64\n",
      "L              int64\n",
      "dtype: object\n"
     ]
    }
   ],
   "source": [
    "print(data.dtypes)"
   ]
  },
  {
   "cell_type": "code",
   "execution_count": 48,
   "id": "04e2ff8e",
   "metadata": {},
   "outputs": [
    {
     "name": "stdout",
     "output_type": "stream",
     "text": [
      "<bound method NDFrame.tail of           East Unnamed: 1 Unnamed: 2   W   L\n",
      "0    MIL * (1)          F          $  58  24\n",
      "1    BOS * (2)          F          $  57  25\n",
      "2    PHI * (3)          F          $  54  28\n",
      "3    CLE * (4)          F          $  51  31\n",
      "4    NYK * (5)          F          $  47  35\n",
      "5    BRK * (6)          F          $  45  37\n",
      "6    MIA * (7)          F          $  44  38\n",
      "7    ATL * (8)          F          $  41  41\n",
      "8    TOR * (9)          F          $  41  41\n",
      "9   CHI * (10)          F          $  40  42\n",
      "10  IND x (11)          F          $  35  47\n",
      "11  WAS x (12)          F          $  35  47\n",
      "12  ORL x (13)          F          $  34  48\n",
      "13  CHO x (14)          F          $  27  55\n",
      "14  DET x (15)          F          $  17  65>\n"
     ]
    }
   ],
   "source": [
    "print(data.tail)"
   ]
  },
  {
   "cell_type": "code",
   "execution_count": 49,
   "id": "478fe1c7",
   "metadata": {},
   "outputs": [
    {
     "name": "stdout",
     "output_type": "stream",
     "text": [
      "          East Unnamed: 1 Unnamed: 2   W   L\n",
      "5    BRK * (6)          F          $  45  37\n",
      "6    MIA * (7)          F          $  44  38\n",
      "7    ATL * (8)          F          $  41  41\n",
      "8    TOR * (9)          F          $  41  41\n",
      "9   CHI * (10)          F          $  40  42\n",
      "10  IND x (11)          F          $  35  47\n",
      "11  WAS x (12)          F          $  35  47\n",
      "12  ORL x (13)          F          $  34  48\n",
      "13  CHO x (14)          F          $  27  55\n",
      "14  DET x (15)          F          $  17  65\n"
     ]
    }
   ],
   "source": [
    "print(data.tail(10))"
   ]
  },
  {
   "cell_type": "code",
   "execution_count": null,
   "id": "55be2844",
   "metadata": {},
   "outputs": [],
   "source": []
  },
  {
   "cell_type": "markdown",
   "id": "34a31964",
   "metadata": {},
   "source": [
    "### Q6. Which of the following is mutable in nature Series, DataFrame, Panel?"
   ]
  },
  {
   "cell_type": "markdown",
   "id": "75b98596",
   "metadata": {},
   "source": [
    "Answer:\n",
    "Among the options provided, both Series and DataFrame are mutable in nature, while Panel is not mutable.\n",
    "\n",
    "Series: A Series in Pandas is mutable, meaning its elements can be modified after creation. You can change the values of individual elements or update the entire Series by assigning new values.\n",
    "\n",
    "DataFrame: Similarly, a DataFrame is also mutable. You can modify the values of individual cells, add or remove columns, and perform various operations to update the DataFrame.\n",
    "\n",
    "Panel: On the other hand, Panel is an advanced data structure in Pandas that can hold data in three dimensions (items, major_axis, and minor_axis). However, as of Pandas version 1.0.0, the Panel data structure has been deprecated and is no longer recommended for use. It is generally considered a best practice to use multi-dimensional arrays or DataFrames to represent three-dimensional data instead.\n",
    "\n",
    "To summarize, Series and DataFrame are mutable in nature, allowing you to modify their contents, while Panel is not recommended for use and does not have the same level of mutability."
   ]
  },
  {
   "cell_type": "markdown",
   "id": "b0b4124c",
   "metadata": {},
   "source": [
    "### Q7. Create a DataFrame using multiple Series. Explain with an example."
   ]
  },
  {
   "cell_type": "markdown",
   "id": "a8b0226d",
   "metadata": {},
   "source": [
    "To create a DataFrame using multiple Series, we can pass a dictionary of Series to the pd.DataFrame() function. \n",
    "where each Series will become a column in the resulting DataFrame. \n",
    "Here's an example to illustrate the process:"
   ]
  },
  {
   "cell_type": "code",
   "execution_count": 39,
   "id": "475ec81c",
   "metadata": {},
   "outputs": [
    {
     "name": "stdout",
     "output_type": "stream",
     "text": [
      "        Name  Age      City\n",
      "0  Sudhanshu   23  Dehradun\n",
      "1      Sumit   30     Patna\n",
      "2      Atish   35     Delhi\n",
      "3      Arnav   40    Ranchi\n"
     ]
    }
   ],
   "source": [
    "import pandas as pd\n",
    "\n",
    "# Create individual Series\n",
    "name_series = pd.Series(['Sudhanshu', 'Sumit', 'Atish', 'Arnav'])\n",
    "age_series = pd.Series([23, 30, 35, 40])\n",
    "city_series = pd.Series(['Dehradun', 'Patna', 'Delhi', 'Ranchi'])\n",
    "\n",
    "# Create a DataFrame using the Series\n",
    "data = {\n",
    "    'Name': name_series,\n",
    "    'Age': age_series,\n",
    "    'City': city_series\n",
    "}\n",
    "\n",
    "df = pd.DataFrame(data)\n",
    "print(df)\n"
   ]
  },
  {
   "cell_type": "markdown",
   "id": "fed7798c",
   "metadata": {},
   "source": [
    "In this example, we first create three individual Series: name_series, age_series, and city_series. \n",
    "Each Series represents a column of data for the DataFrame.\n",
    "\n",
    "then, we create a dictionary data where the keys represent the column names ('Name', 'Age', 'City'), and the corresponding values are the Series objects.\n",
    "\n",
    "Finally, we pass the data dictionary to the pd.DataFrame() function, which creates a DataFrame called df. \n",
    "The resulting DataFrame has three columns: 'Name', 'Age', and 'City', with the values taken from the respective Series.\n",
    "\n",
    "By using multiple Series, we can easily combine different sets of data into a tabular structure, allowing for efficient analysis and manipulation using the DataFrame's functionalities."
   ]
  },
  {
   "cell_type": "raw",
   "id": "2011bbc8",
   "metadata": {},
   "source": [
    "Note: Create your assignment in Jupyter notebook and upload it in GitHub & share that github\n",
    "repository link through your dashboard. Make sure the repository is public."
   ]
  }
 ],
 "metadata": {
  "kernelspec": {
   "display_name": "Python 3 (ipykernel)",
   "language": "python",
   "name": "python3"
  },
  "language_info": {
   "codemirror_mode": {
    "name": "ipython",
    "version": 3
   },
   "file_extension": ".py",
   "mimetype": "text/x-python",
   "name": "python",
   "nbconvert_exporter": "python",
   "pygments_lexer": "ipython3",
   "version": "3.9.12"
  }
 },
 "nbformat": 4,
 "nbformat_minor": 5
}
