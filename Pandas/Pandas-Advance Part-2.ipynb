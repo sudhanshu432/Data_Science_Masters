{
 "cells": [
  {
   "cell_type": "code",
   "execution_count": 1,
   "id": "2c2d475b",
   "metadata": {},
   "outputs": [],
   "source": [
    "import pandas as pd"
   ]
  },
  {
   "cell_type": "code",
   "execution_count": 4,
   "id": "4bde859a",
   "metadata": {},
   "outputs": [],
   "source": [
    "df = pd.read_csv('titanic_train.csv')"
   ]
  },
  {
   "cell_type": "code",
   "execution_count": 5,
   "id": "e46bcd60",
   "metadata": {},
   "outputs": [
    {
     "data": {
      "text/plain": [
       "Index(['PassengerId', 'Survived', 'Pclass', 'Name', 'Sex', 'Age', 'SibSp',\n",
       "       'Parch', 'Ticket', 'Fare', 'Cabin', 'Embarked'],\n",
       "      dtype='object')"
      ]
     },
     "execution_count": 5,
     "metadata": {},
     "output_type": "execute_result"
    }
   ],
   "source": [
    "df.columns"
   ]
  },
  {
   "cell_type": "code",
   "execution_count": 7,
   "id": "d54a21fa",
   "metadata": {},
   "outputs": [],
   "source": [
    "s = df['Name']"
   ]
  },
  {
   "cell_type": "code",
   "execution_count": 9,
   "id": "385541aa",
   "metadata": {},
   "outputs": [
    {
     "data": {
      "text/plain": [
       "891"
      ]
     },
     "execution_count": 9,
     "metadata": {},
     "output_type": "execute_result"
    }
   ],
   "source": [
    "len(s)"
   ]
  },
  {
   "cell_type": "code",
   "execution_count": 10,
   "id": "8560066a",
   "metadata": {},
   "outputs": [],
   "source": [
    "s = df['Name'][0:10]"
   ]
  },
  {
   "cell_type": "code",
   "execution_count": 11,
   "id": "e8158ecb",
   "metadata": {},
   "outputs": [
    {
     "data": {
      "text/plain": [
       "0                              Braund, Mr. Owen Harris\n",
       "1    Cumings, Mrs. John Bradley (Florence Briggs Th...\n",
       "2                               Heikkinen, Miss. Laina\n",
       "3         Futrelle, Mrs. Jacques Heath (Lily May Peel)\n",
       "4                             Allen, Mr. William Henry\n",
       "5                                     Moran, Mr. James\n",
       "6                              McCarthy, Mr. Timothy J\n",
       "7                       Palsson, Master. Gosta Leonard\n",
       "8    Johnson, Mrs. Oscar W (Elisabeth Vilhelmina Berg)\n",
       "9                  Nasser, Mrs. Nicholas (Adele Achem)\n",
       "Name: Name, dtype: object"
      ]
     },
     "execution_count": 11,
     "metadata": {},
     "output_type": "execute_result"
    }
   ],
   "source": [
    "s"
   ]
  },
  {
   "cell_type": "code",
   "execution_count": 12,
   "id": "f17fe25f",
   "metadata": {},
   "outputs": [
    {
     "data": {
      "text/plain": [
       "pandas.core.series.Series"
      ]
     },
     "execution_count": 12,
     "metadata": {},
     "output_type": "execute_result"
    }
   ],
   "source": [
    "type(s)"
   ]
  },
  {
   "cell_type": "code",
   "execution_count": 13,
   "id": "d93f1d1c",
   "metadata": {},
   "outputs": [],
   "source": [
    "#In the above code output we can see the index.\n",
    "#suppose we want to give our own index then let's see how we can do the same \n"
   ]
  },
  {
   "cell_type": "code",
   "execution_count": 14,
   "id": "814a4b72",
   "metadata": {},
   "outputs": [],
   "source": [
    "#Solution: Make a list which you want to put it as index \n",
    "lis = ['a','b','c','d','e','f','g','h','i','j']\n"
   ]
  },
  {
   "cell_type": "code",
   "execution_count": 19,
   "id": "11e3c52d",
   "metadata": {},
   "outputs": [],
   "source": [
    "#Call pd.Series and pass our series s with index = lis because lis contain list of index\n",
    "s1 = pd.Series(list(s),index = lis)"
   ]
  },
  {
   "cell_type": "code",
   "execution_count": 17,
   "id": "eeca2d2b",
   "metadata": {},
   "outputs": [
    {
     "data": {
      "text/plain": [
       "0                              Braund, Mr. Owen Harris\n",
       "1    Cumings, Mrs. John Bradley (Florence Briggs Th...\n",
       "2                               Heikkinen, Miss. Laina\n",
       "3         Futrelle, Mrs. Jacques Heath (Lily May Peel)\n",
       "4                             Allen, Mr. William Henry\n",
       "5                                     Moran, Mr. James\n",
       "6                              McCarthy, Mr. Timothy J\n",
       "7                       Palsson, Master. Gosta Leonard\n",
       "8    Johnson, Mrs. Oscar W (Elisabeth Vilhelmina Berg)\n",
       "9                  Nasser, Mrs. Nicholas (Adele Achem)\n",
       "Name: Name, dtype: object"
      ]
     },
     "execution_count": 17,
     "metadata": {},
     "output_type": "execute_result"
    }
   ],
   "source": [
    "s"
   ]
  },
  {
   "cell_type": "code",
   "execution_count": 21,
   "id": "19e6a396",
   "metadata": {},
   "outputs": [
    {
     "data": {
      "text/plain": [
       "'Braund, Mr. Owen Harris'"
      ]
     },
     "execution_count": 21,
     "metadata": {},
     "output_type": "execute_result"
    }
   ],
   "source": [
    "s[0]"
   ]
  },
  {
   "cell_type": "code",
   "execution_count": 22,
   "id": "733702ae",
   "metadata": {},
   "outputs": [
    {
     "data": {
      "text/plain": [
       "a                              Braund, Mr. Owen Harris\n",
       "b    Cumings, Mrs. John Bradley (Florence Briggs Th...\n",
       "c                               Heikkinen, Miss. Laina\n",
       "d         Futrelle, Mrs. Jacques Heath (Lily May Peel)\n",
       "e                             Allen, Mr. William Henry\n",
       "f                                     Moran, Mr. James\n",
       "g                              McCarthy, Mr. Timothy J\n",
       "h                       Palsson, Master. Gosta Leonard\n",
       "i    Johnson, Mrs. Oscar W (Elisabeth Vilhelmina Berg)\n",
       "j                  Nasser, Mrs. Nicholas (Adele Achem)\n",
       "dtype: object"
      ]
     },
     "execution_count": 22,
     "metadata": {},
     "output_type": "execute_result"
    }
   ],
   "source": [
    "#This is our new named indexed data\n",
    "s1"
   ]
  },
  {
   "cell_type": "code",
   "execution_count": 23,
   "id": "c9a42995",
   "metadata": {},
   "outputs": [
    {
     "data": {
      "text/plain": [
       "'Braund, Mr. Owen Harris'"
      ]
     },
     "execution_count": 23,
     "metadata": {},
     "output_type": "execute_result"
    }
   ],
   "source": [
    "s1[0]"
   ]
  },
  {
   "cell_type": "code",
   "execution_count": 24,
   "id": "e526baef",
   "metadata": {},
   "outputs": [
    {
     "data": {
      "text/plain": [
       "'Braund, Mr. Owen Harris'"
      ]
     },
     "execution_count": 24,
     "metadata": {},
     "output_type": "execute_result"
    }
   ],
   "source": [
    "#You can pass your index name to fetch the data\n",
    "s1['a']"
   ]
  },
  {
   "cell_type": "code",
   "execution_count": 25,
   "id": "57b0189a",
   "metadata": {},
   "outputs": [],
   "source": [
    "#So, conclusion is you can give desired index name as you want\n"
   ]
  },
  {
   "cell_type": "code",
   "execution_count": 31,
   "id": "1567fb9f",
   "metadata": {},
   "outputs": [
    {
     "name": "stderr",
     "output_type": "stream",
     "text": [
      "C:\\Users\\DELL\\AppData\\Local\\Temp\\ipykernel_9280\\642795643.py:2: FutureWarning: The series.append method is deprecated and will be removed from pandas in a future version. Use pandas.concat instead.\n",
      "  s2 = s1.append(s)\n"
     ]
    }
   ],
   "source": [
    "#Append all data contain by s in s1\n",
    "s2 = s1.append(s)"
   ]
  },
  {
   "cell_type": "code",
   "execution_count": 32,
   "id": "324159ff",
   "metadata": {},
   "outputs": [
    {
     "data": {
      "text/plain": [
       "a                              Braund, Mr. Owen Harris\n",
       "b    Cumings, Mrs. John Bradley (Florence Briggs Th...\n",
       "c                               Heikkinen, Miss. Laina\n",
       "d         Futrelle, Mrs. Jacques Heath (Lily May Peel)\n",
       "e                             Allen, Mr. William Henry\n",
       "f                                     Moran, Mr. James\n",
       "g                              McCarthy, Mr. Timothy J\n",
       "h                       Palsson, Master. Gosta Leonard\n",
       "i    Johnson, Mrs. Oscar W (Elisabeth Vilhelmina Berg)\n",
       "j                  Nasser, Mrs. Nicholas (Adele Achem)\n",
       "0                              Braund, Mr. Owen Harris\n",
       "1    Cumings, Mrs. John Bradley (Florence Briggs Th...\n",
       "2                               Heikkinen, Miss. Laina\n",
       "3         Futrelle, Mrs. Jacques Heath (Lily May Peel)\n",
       "4                             Allen, Mr. William Henry\n",
       "5                                     Moran, Mr. James\n",
       "6                              McCarthy, Mr. Timothy J\n",
       "7                       Palsson, Master. Gosta Leonard\n",
       "8    Johnson, Mrs. Oscar W (Elisabeth Vilhelmina Berg)\n",
       "9                  Nasser, Mrs. Nicholas (Adele Achem)\n",
       "dtype: object"
      ]
     },
     "execution_count": 32,
     "metadata": {},
     "output_type": "execute_result"
    }
   ],
   "source": [
    "s2"
   ]
  },
  {
   "cell_type": "code",
   "execution_count": 33,
   "id": "0542d0c0",
   "metadata": {},
   "outputs": [
    {
     "data": {
      "text/plain": [
       "'Braund, Mr. Owen Harris'"
      ]
     },
     "execution_count": 33,
     "metadata": {},
     "output_type": "execute_result"
    }
   ],
   "source": [
    "s2[0]"
   ]
  },
  {
   "cell_type": "code",
   "execution_count": 35,
   "id": "3f7d3547",
   "metadata": {},
   "outputs": [
    {
     "data": {
      "text/plain": [
       "'Allen, Mr. William Henry'"
      ]
     },
     "execution_count": 35,
     "metadata": {},
     "output_type": "execute_result"
    }
   ],
   "source": [
    "s2[4]"
   ]
  },
  {
   "cell_type": "code",
   "execution_count": 43,
   "id": "5b0d1f0b",
   "metadata": {},
   "outputs": [],
   "source": [
    "s4 = pd.Series([3,4,5,6,6], index = [2,4,5,6,2])"
   ]
  },
  {
   "cell_type": "code",
   "execution_count": 44,
   "id": "6b445d78",
   "metadata": {},
   "outputs": [],
   "source": [
    "s5 = pd.Series([34,444,553,6345,635], index = [9,4,5,6,7])"
   ]
  },
  {
   "cell_type": "code",
   "execution_count": 47,
   "id": "5fdd1128",
   "metadata": {},
   "outputs": [
    {
     "name": "stderr",
     "output_type": "stream",
     "text": [
      "C:\\Users\\DELL\\AppData\\Local\\Temp\\ipykernel_9280\\937876903.py:1: FutureWarning: The series.append method is deprecated and will be removed from pandas in a future version. Use pandas.concat instead.\n",
      "  s6 = s4.append(s5)\n"
     ]
    }
   ],
   "source": [
    "s6 = s4.append(s5)"
   ]
  },
  {
   "cell_type": "code",
   "execution_count": 50,
   "id": "ed4c23a9",
   "metadata": {},
   "outputs": [
    {
     "data": {
      "text/plain": [
       "2       3\n",
       "4       4\n",
       "5       5\n",
       "6       6\n",
       "2       6\n",
       "9      34\n",
       "4     444\n",
       "5     553\n",
       "6    6345\n",
       "7     635\n",
       "dtype: int64"
      ]
     },
     "execution_count": 50,
     "metadata": {},
     "output_type": "execute_result"
    }
   ],
   "source": [
    "s6"
   ]
  },
  {
   "cell_type": "code",
   "execution_count": 49,
   "id": "af742c40",
   "metadata": {},
   "outputs": [
    {
     "data": {
      "text/plain": [
       "4      4\n",
       "4    444\n",
       "dtype: int64"
      ]
     },
     "execution_count": 49,
     "metadata": {},
     "output_type": "execute_result"
    }
   ],
   "source": [
    "s6[4] #This will print data on the basis of named index"
   ]
  },
  {
   "cell_type": "code",
   "execution_count": 51,
   "id": "542a915e",
   "metadata": {},
   "outputs": [
    {
     "data": {
      "text/plain": [
       "2     3\n",
       "4     4\n",
       "5     5\n",
       "6     6\n",
       "2     6\n",
       "9    34\n",
       "dtype: int64"
      ]
     },
     "execution_count": 51,
     "metadata": {},
     "output_type": "execute_result"
    }
   ],
   "source": [
    "s6[0:6] #In this case it read it as default index "
   ]
  },
  {
   "cell_type": "code",
   "execution_count": 52,
   "id": "0d7df6e7",
   "metadata": {},
   "outputs": [
    {
     "data": {
      "text/plain": [
       "2    3\n",
       "4    4\n",
       "5    5\n",
       "6    6\n",
       "2    6\n",
       "dtype: int64"
      ]
     },
     "execution_count": 52,
     "metadata": {},
     "output_type": "execute_result"
    }
   ],
   "source": [
    "s4"
   ]
  },
  {
   "cell_type": "code",
   "execution_count": 53,
   "id": "eef93ff4",
   "metadata": {},
   "outputs": [
    {
     "data": {
      "text/plain": [
       "9      34\n",
       "4     444\n",
       "5     553\n",
       "6    6345\n",
       "7     635\n",
       "dtype: int64"
      ]
     },
     "execution_count": 53,
     "metadata": {},
     "output_type": "execute_result"
    }
   ],
   "source": [
    "s5"
   ]
  },
  {
   "cell_type": "code",
   "execution_count": 56,
   "id": "aaf06c59",
   "metadata": {},
   "outputs": [
    {
     "data": {
      "text/plain": [
       "2        NaN\n",
       "2        NaN\n",
       "4     1776.0\n",
       "5     2765.0\n",
       "6    38070.0\n",
       "7        NaN\n",
       "9        NaN\n",
       "dtype: float64"
      ]
     },
     "execution_count": 56,
     "metadata": {},
     "output_type": "execute_result"
    }
   ],
   "source": [
    "#What will happen lets see \n",
    "s4*s5 \n",
    "#Here in this case dono me index check krega if index same hoga to operation's \n",
    "#Perform krega otherwise NaN return krdega"
   ]
  },
  {
   "cell_type": "code",
   "execution_count": null,
   "id": "5b0296ce",
   "metadata": {},
   "outputs": [],
   "source": []
  },
  {
   "cell_type": "code",
   "execution_count": null,
   "id": "182749af",
   "metadata": {},
   "outputs": [],
   "source": []
  },
  {
   "cell_type": "code",
   "execution_count": null,
   "id": "3ed94253",
   "metadata": {},
   "outputs": [],
   "source": []
  },
  {
   "cell_type": "code",
   "execution_count": null,
   "id": "0cf31b05",
   "metadata": {},
   "outputs": [],
   "source": []
  },
  {
   "cell_type": "code",
   "execution_count": null,
   "id": "8efbdd42",
   "metadata": {},
   "outputs": [],
   "source": []
  }
 ],
 "metadata": {
  "kernelspec": {
   "display_name": "Python 3 (ipykernel)",
   "language": "python",
   "name": "python3"
  },
  "language_info": {
   "codemirror_mode": {
    "name": "ipython",
    "version": 3
   },
   "file_extension": ".py",
   "mimetype": "text/x-python",
   "name": "python",
   "nbconvert_exporter": "python",
   "pygments_lexer": "ipython3",
   "version": "3.9.12"
  }
 },
 "nbformat": 4,
 "nbformat_minor": 5
}
